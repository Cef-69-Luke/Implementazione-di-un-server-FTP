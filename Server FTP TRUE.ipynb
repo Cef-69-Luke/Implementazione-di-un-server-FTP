{
 "cells": [
  {
   "cell_type": "code",
   "execution_count": null,
   "id": "86348591",
   "metadata": {},
   "outputs": [],
   "source": [
    "pip install pyftpdlib # Libreria da installare "
   ]
  },
  {
   "cell_type": "code",
   "execution_count": null,
   "id": "7f68c709",
   "metadata": {
    "scrolled": false
   },
   "outputs": [],
   "source": [
    "###########SERVER TCP################################\n",
    "import os\n",
    "from pyftpdlib.authorizers import DummyAuthorizer #Autorizzazione comandi\n",
    "from pyftpdlib.handlers import FTPHandler #Iterprete comandi \n",
    "from pyftpdlib.servers import FTPServer #Creazione server\n",
    "import socket\n",
    " \n",
    "def main():\n",
    "    #-------------------------------------##\n",
    "    ##Gestione e creazione utenti virtuali##\n",
    "    #-------------------------------------##\n",
    "    cwd = os.getcwd() # directory in uso \n",
    "    \n",
    "    authorizer = DummyAuthorizer() #gestione autenticazioni e permessi del server \n",
    "    \n",
    "    authorizer.add_user('uno', 'ciao', cwd, perm='elrwd' )#utente uno con tutti i permessi \n",
    "    \n",
    "    authorizer.add_user('due', 'hi', cwd, perm='elrwd')#utente due con tutti i permessi \n",
    "    \n",
    "    authorizer.add_anonymous(cwd, perm='elrwd')#creazione utente anonimo\n",
    "    \n",
    "    authorizer.validate_authentication( 'uno' , 'ciao' , 'handler' )\n",
    "    \n",
    "    #-------------------------------------##\n",
    "    ##Interprete di protocollo server FTP ##\n",
    "    ##Gestione comandi ricevuti del client##\n",
    "    #-------------------------------------##\n",
    "    handler = FTPHandler # interprete\n",
    "    \n",
    "    handler.authorizer = authorizer # Gestioni comandi \n",
    "    \n",
    "    handler.banner = \"Server ti saluta! Ftpd pronto.\" #risposta quando il server si connette \n",
    "    \n",
    "    #-------------------------------------##\n",
    "    ##       Server accettatore           ##\n",
    "    #-------------------------------------##\n",
    "    k = socket.gethostbyname(\"127.0.0.1\")\n",
    "    # Istanzia la classe del server FTP e ascolta su 0.0.0.0:2533\n",
    "    \n",
    "    address = (k, 2533)#indirizzo IP e porta utilizzata\n",
    "    \n",
    "    server = FTPServer(address, handler)# definizione indirizzo server e porta \n",
    "    \n",
    "    server.max_cons = 256 # limiti connessioni simultanee\n",
    "    \n",
    "    server.max_cons_per_ip = 5 # numero massimo di connessioni accettate per lo stesso IP\n",
    "    \n",
    "    server.serve_forever() # inizio ftp server  \n",
    "\n",
    "if __name__ == '__main__':\n",
    "    main()\n",
    "    \n",
    "'''\n",
    "*****************************************************\n",
    "*_______*******______**************  ____************\n",
    "*|      \\******|    |***************/    |***********\n",
    "*|    \\  \\*****|    |**************/     |***********\n",
    "*|   |*\\  \\****|    |*************/  /|  |***********\n",
    "*|   |**\\  \\***|    |************/  /*|  |***********\n",
    "*|   |***\\  \\**|    |************---**|  |***********\n",
    "*|   |****\\  \\*|    |*****************|  |***********\n",
    "*|   |*****\\  \\|    |*****************|  |*********** \n",
    "*|   |******\\       |*****************|  |***********\n",
    "*|   |*******\\      |**[   ]********__|  |__*********\n",
    "*|___|********\\_____|**[   ]*******|________|********\n",
    "***********************************************NAMO**\n",
    "'''"
   ]
  }
 ],
 "metadata": {
  "interpreter": {
   "hash": "31f2aee4e71d21fbe5cf8b01ff0e069b9275f58929596ceb00d14d90e3e16cd6"
  },
  "kernelspec": {
   "display_name": "Python 3",
   "language": "python",
   "name": "python3"
  },
  "language_info": {
   "codemirror_mode": {
    "name": "ipython",
    "version": 3
   },
   "file_extension": ".py",
   "mimetype": "text/x-python",
   "name": "python",
   "nbconvert_exporter": "python",
   "pygments_lexer": "ipython3",
   "version": "3.8.8"
  }
 },
 "nbformat": 4,
 "nbformat_minor": 5
}
